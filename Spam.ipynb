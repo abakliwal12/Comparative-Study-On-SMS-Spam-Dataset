{
 "cells": [
  {
   "cell_type": "markdown",
   "metadata": {
    "_cell_guid": "32bace17-c3f1-4557-9a75-5093c4c45e60",
    "_uuid": "a06b35c55e9cda0cd2aa34827b1c9f71cc37006c"
   },
   "source": [
    "SMS Spam Detection \n",
    "\n",
    "Classifier Models Used : \n",
    "\n",
    "    Support vector classifier\n",
    "    \n",
    "    Naive Bayes\n",
    "    \n",
    "    Decision Tree\n",
    "    \n",
    "    Logistic Regression\n",
    "    \n",
    "    Random Forest\n",
    "     \n",
    "Comparison Between Models has been done using :\n",
    "    \n",
    "    Accuracy and F1 Score\n",
    "    \n",
    "    Confusion Matrices\n",
    "    \n",
    "    Misclassified samples from SVM"
   ]
  },
  {
   "cell_type": "markdown",
   "metadata": {
    "_cell_guid": "98429bd4-a89f-4664-9aba-28db23d0b7d1",
    "_uuid": "d81885f91ed70ce55388425fd4438b3d47335b27"
   },
   "source": [
    "Import Data and Module"
   ]
  },
  {
   "cell_type": "code",
   "execution_count": 30,
   "metadata": {
    "_cell_guid": "8a10a7d8-2677-4cfd-a955-d2db9129f196",
    "_uuid": "4b54a35fc2c26b009acaf40924554d158e8ebcc8"
   },
   "outputs": [],
   "source": [
    "import pandas as pd\n",
    "import numpy as np\n",
    "from sklearn.feature_extraction.text import TfidfVectorizer\n",
    "from sklearn.model_selection import train_test_split\n",
    "import string\n",
    "import matplotlib.pyplot as plt\n",
    "from sklearn.metrics import accuracy_score,f1_score\n",
    "from sklearn.metrics import confusion_matrix\n",
    "from sklearn.model_selection import cross_val_score\n",
    "\n",
    "from sklearn.svm import SVC\n",
    "from sklearn.naive_bayes import GaussianNB\n",
    "from sklearn.tree import DecisionTreeClassifier\n",
    "from sklearn.linear_model import LogisticRegression\n",
    "from sklearn.ensemble import RandomForestClassifier\n",
    "from sklearn.ensemble import AdaBoostClassifier\n",
    "%matplotlib inline"
   ]
  },
  {
   "cell_type": "code",
   "execution_count": 31,
   "metadata": {
    "_cell_guid": "163b0003-f5c2-48a5-8efc-a9f97277a368",
    "_uuid": "9bd0405c0f4add203f464fa2c171723355327c2a",
    "scrolled": false
   },
   "outputs": [
    {
     "data": {
      "text/html": [
       "<div>\n",
       "<style scoped>\n",
       "    .dataframe tbody tr th:only-of-type {\n",
       "        vertical-align: middle;\n",
       "    }\n",
       "\n",
       "    .dataframe tbody tr th {\n",
       "        vertical-align: top;\n",
       "    }\n",
       "\n",
       "    .dataframe thead th {\n",
       "        text-align: right;\n",
       "    }\n",
       "</style>\n",
       "<table border=\"1\" class=\"dataframe\">\n",
       "  <thead>\n",
       "    <tr style=\"text-align: right;\">\n",
       "      <th></th>\n",
       "      <th>v1</th>\n",
       "      <th>v2</th>\n",
       "    </tr>\n",
       "  </thead>\n",
       "  <tbody>\n",
       "    <tr>\n",
       "      <th>5567</th>\n",
       "      <td>spam</td>\n",
       "      <td>This is the 2nd time we have tried 2 contact u...</td>\n",
       "    </tr>\n",
       "    <tr>\n",
       "      <th>5568</th>\n",
       "      <td>ham</td>\n",
       "      <td>Will Ì_ b going to esplanade fr home?</td>\n",
       "    </tr>\n",
       "    <tr>\n",
       "      <th>5569</th>\n",
       "      <td>ham</td>\n",
       "      <td>Pity, * was in mood for that. So...any other s...</td>\n",
       "    </tr>\n",
       "    <tr>\n",
       "      <th>5570</th>\n",
       "      <td>ham</td>\n",
       "      <td>The guy did some bitching but I acted like i'd...</td>\n",
       "    </tr>\n",
       "    <tr>\n",
       "      <th>5571</th>\n",
       "      <td>ham</td>\n",
       "      <td>Rofl. Its true to its name</td>\n",
       "    </tr>\n",
       "  </tbody>\n",
       "</table>\n",
       "</div>"
      ],
      "text/plain": [
       "        v1                                                 v2\n",
       "5567  spam  This is the 2nd time we have tried 2 contact u...\n",
       "5568   ham              Will Ì_ b going to esplanade fr home?\n",
       "5569   ham  Pity, * was in mood for that. So...any other s...\n",
       "5570   ham  The guy did some bitching but I acted like i'd...\n",
       "5571   ham                         Rofl. Its true to its name"
      ]
     },
     "execution_count": 31,
     "metadata": {},
     "output_type": "execute_result"
    }
   ],
   "source": [
    "df = pd.read_csv('./input/spam.csv', encoding='latin-1')\n",
    "df = df.loc[:,['v1','v2']]\n",
    "df.tail()"
   ]
  },
  {
   "cell_type": "markdown",
   "metadata": {
    "_cell_guid": "0f114464-61f1-4f06-bddb-22d6878d7026",
    "_uuid": "66762f42d3552f336d9cc305c2b8d714e6b9384c"
   },
   "source": [
    "Transforming first column `v1`, where `ham=0`, `spam=1`."
   ]
  },
  {
   "cell_type": "code",
   "execution_count": 32,
   "metadata": {
    "_cell_guid": "5f2b3684-5a88-4e84-a478-25d877133dfb",
    "_uuid": "225a0c8d183f1f019e09a50efa386dd732a7043d"
   },
   "outputs": [],
   "source": [
    "d={'spam':1,'ham':0}\n",
    "df.v1 = list(map(lambda x:d[x],df.v1))"
   ]
  },
  {
   "cell_type": "markdown",
   "metadata": {
    "_cell_guid": "060b20ef-5ff5-4e64-98c6-46b8cb59a721",
    "_uuid": "46d773b45b47e15f8ca908c398dfbc8d8a9fb72e"
   },
   "source": [
    "Conversion rom Text To Features\n",
    "\n",
    "We have used tf-idf model on the text. The text will be \n",
    "\n",
    "1. lower: No captal appeared.\n",
    "2. remove punctuation: No punctuation appeared.\n",
    "3. stemmed: collect similar words (i.e. `words` will be transformed to `word`,etc.)\n",
    "\n",
    "Then convert the cleaned text to tf-idf features (5000 features for an entry)."
   ]
  },
  {
   "cell_type": "code",
   "execution_count": 33,
   "metadata": {
    "_cell_guid": "306e323c-4cf1-4bf6-aa68-fd88f2d73bba",
    "_uuid": "2741a086a5253f4a0dfa6ca2822886096c537bde"
   },
   "outputs": [],
   "source": [
    "import re\n",
    "from nltk.tokenize import word_tokenize\n",
    "from nltk.stem import PorterStemmer\n",
    "from sklearn.feature_extraction.text import TfidfVectorizer\n",
    "\n",
    "class stemmed_tfidf():\n",
    "    def __init__(self,max_features=5000):\n",
    "        self.ps = PorterStemmer()\n",
    "        self.vc = TfidfVectorizer(analyzer='word',stop_words = 'english', max_features = max_features)\n",
    "    def tfidf(self,ListStr):\n",
    "        '''\n",
    "        return: sklearn.feature_extraction.text.TfidfVectorizer\n",
    "        '''\n",
    "        table = self.vc.fit_transform([self.stem_string(s) for s in ListStr])\n",
    "        return table\n",
    "    def stem_string(self,s):\n",
    "        '''\n",
    "        s:str, e.g. s = \"Get strings with string. With. Punctuation?\"\n",
    "        ps: stemmer from nltk module\n",
    "        return: bag of words.e.g. 'get string with string with punctuat'\n",
    "        '''    \n",
    "        s = re.sub(r'[^\\w\\s]',' ',s)# remove punctuation.\n",
    "        tokens = word_tokenize(s) \n",
    "        return ' '.join([self.ps.stem(w) for w in tokens])# e.g. 'desks'->'desk'"
   ]
  },
  {
   "cell_type": "code",
   "execution_count": 34,
   "metadata": {
    "_cell_guid": "85b960e6-b130-4520-bfe3-21df71cfdcc2",
    "_uuid": "1458904ce7a8299cb143594f80f4861694d31adf"
   },
   "outputs": [],
   "source": [
    "stf = stemmed_tfidf()\n",
    "feature = stf.tfidf(df.v2) # this will be a sparse matrix of size (n,5000)"
   ]
  },
  {
   "cell_type": "markdown",
   "metadata": {
    "_cell_guid": "d32c7786-d497-4899-80f9-eb73c98efcc7",
    "_uuid": "c6767206dca552e32084c0a52e040e3abdcfaabc"
   },
   "source": [
    "Prediction"
   ]
  },
  {
   "cell_type": "code",
   "execution_count": 35,
   "metadata": {
    "_cell_guid": "9bb9c4d7-bcff-4d69-a139-2b4a4e0b14ed",
    "_uuid": "4a1dcb2074f80fa3edebac92807d6cc3a8a377cd",
    "scrolled": true
   },
   "outputs": [
    {
     "name": "stdout",
     "output_type": "stream",
     "text": [
      "13.41 percent of data is spam: We have an inbalanced data set.\n"
     ]
    }
   ],
   "source": [
    "print('%2.2f percent of data is spam: We have an inbalanced data set.'%round(100*sum(df.v1)/len(df),2))"
   ]
  },
  {
   "cell_type": "code",
   "execution_count": 7,
   "metadata": {
    "_cell_guid": "31663d3d-06f3-4a32-8964-f5470d320d34",
    "_uuid": "c90a190002a6f1847c860ec6688c107863c15d32"
   },
   "outputs": [],
   "source": [
    "Xtrain, Xtest, ytrain, ytest = train_test_split(feature, df.v1, test_size=0.2, random_state=1)"
   ]
  },
  {
   "cell_type": "code",
   "execution_count": 8,
   "metadata": {
    "_cell_guid": "f34bd0c0-b43c-471c-8890-70bd33583c71",
    "_uuid": "09f6c308facca079e4c9373e5da3daf7f3285676"
   },
   "outputs": [],
   "source": [
    "Acc = {}\n",
    "F1score = {}\n",
    "confusion_mat={}\n",
    "predictions = {}"
   ]
  },
  {
   "cell_type": "markdown",
   "metadata": {
    "_cell_guid": "bfe9a68c-8e27-446e-8e6f-96ce0382bfc3",
    "_uuid": "1b23fe1fa76d0601294dfd86579cff012b934681"
   },
   "source": [
    "Support vector classifier"
   ]
  },
  {
   "cell_type": "code",
   "execution_count": 9,
   "metadata": {
    "_cell_guid": "05e98b0a-71ce-4be8-b8f1-ac0dc361ab28",
    "_uuid": "e27d0d002ccbc5236685679d9c14b35fc633b22d"
   },
   "outputs": [],
   "source": [
    "val_scores = []\n",
    "listc = np.linspace(0.5,3,num=4)\n",
    "listgamma = np.linspace(0.5,3,num=4)\n",
    "kernel = ['rbf','sigmoid']# 'poly' is doing bad here, let's save some time.\n",
    "for v in kernel:\n",
    "    for c in listc:\n",
    "        for gamma in listgamma:\n",
    "            svc = SVC(kernel=v, C=c, gamma=gamma,class_weight='balanced')\n",
    "            scores = cross_val_score(svc, Xtrain, ytrain,scoring='f1')\n",
    "            val_scores.append([np.mean(scores),v, c,gamma])"
   ]
  },
  {
   "cell_type": "code",
   "execution_count": 10,
   "metadata": {
    "_cell_guid": "f5f61fd1-8788-4b38-936b-0ce0a8e11e4d",
    "_uuid": "d95d20ca5ccf16c71aa748a999df53d69870a7a6",
    "scrolled": true
   },
   "outputs": [
    {
     "name": "stdout",
     "output_type": "stream",
     "text": [
      "The best scores happens on: [['sigmoid' '1.33333333333' '0.5']] , where F1 = ['0.921963729333']\n"
     ]
    }
   ],
   "source": [
    "val_scores = np.array(val_scores)\n",
    "print('The best scores happens on:',val_scores[val_scores[:,0]==max(val_scores[:,0]),1:],\n",
    "      ', where F1 =',val_scores[val_scores[:,0]==max(val_scores[:,0]),0])"
   ]
  },
  {
   "cell_type": "code",
   "execution_count": 11,
   "metadata": {
    "_cell_guid": "9a5acdb8-f7a6-4262-ae4e-e19845d318f9",
    "_uuid": "4b367a54116ab4baf85a6cad964576a9ee2ca52e"
   },
   "outputs": [
    {
     "name": "stdout",
     "output_type": "stream",
     "text": [
      "The best scores happens on: [['sigmoid' '1.25' '0.825']] , where F1 = ['0.924973193278']\n"
     ]
    }
   ],
   "source": [
    "val_scores = []\n",
    "listc = np.linspace(0.5,2,num=5)\n",
    "listgamma = np.linspace(0.3,1,num=5)\n",
    "for c in listc:\n",
    "    for gamma in listgamma:\n",
    "        svc = SVC(kernel='sigmoid', C=c, gamma=gamma,class_weight='balanced')\n",
    "        scores = cross_val_score(svc, Xtrain, ytrain,scoring='f1')\n",
    "        val_scores.append([np.mean(scores),v, c,gamma])\n",
    "val_scores = np.array(val_scores)\n",
    "print('The best scores happens on:',val_scores[val_scores[:,0]==max(val_scores[:,0]),1:],\n",
    "      ', where F1 =',val_scores[val_scores[:,0]==max(val_scores[:,0]),0])"
   ]
  },
  {
   "cell_type": "code",
   "execution_count": 12,
   "metadata": {
    "_cell_guid": "674d64cb-aee7-46c9-9fd2-a3284e6f9d14",
    "_uuid": "d1905571d9f06929f677bd02a40af152d7fadd1e"
   },
   "outputs": [
    {
     "name": "stdout",
     "output_type": "stream",
     "text": [
      "SVM: Accuracy=0.989, F1=0.957\n"
     ]
    }
   ],
   "source": [
    "name = 'SVM'\n",
    "svc = SVC(kernel='sigmoid', C=1.25, gamma=0.825,class_weight='balanced')\n",
    "svc.fit(Xtrain,ytrain)\n",
    "pred = svc.predict(Xtest.toarray())\n",
    "F1score[name]= f1_score(ytest,pred)\n",
    "Acc[name] = accuracy_score(ytest,pred)\n",
    "confusion_mat[name] = confusion_matrix(ytest,pred)\n",
    "predictions[name]=pred\n",
    "print(name+': Accuracy=%1.3f, F1=%1.3f'%(Acc[name],F1score[name]))"
   ]
  },
  {
   "cell_type": "markdown",
   "metadata": {
    "_cell_guid": "c37cc081-abe4-4c7a-945d-9ff826054088",
    "_uuid": "d30a214972f91d44e6c8ab0e2fb0c7ad267aabf7"
   },
   "source": [
    "2.2 Naive Bayes"
   ]
  },
  {
   "cell_type": "code",
   "execution_count": 13,
   "metadata": {
    "_cell_guid": "784855ad-3332-4ae7-8c79-79bbc4d134e4",
    "_uuid": "284bd40e31faebfcf13fbd751c6a65d6e6fa73e4"
   },
   "outputs": [
    {
     "data": {
      "text/plain": [
       "0.86008968609865466"
      ]
     },
     "execution_count": 13,
     "metadata": {},
     "output_type": "execute_result"
    }
   ],
   "source": [
    "GNB = GaussianNB()\n",
    "GNB.fit(Xtrain.toarray(), ytrain)# Since our Xtrain is a sparse matrix, need to use .toarray() to convert it to dense one.\n",
    "accuracy_score(ytest,GNB.predict(Xtest.toarray()))"
   ]
  },
  {
   "cell_type": "markdown",
   "metadata": {
    "_cell_guid": "77fdf381-32e6-4224-aa2c-f9f0eef2559c",
    "_uuid": "c4de48ed1eda56b5c31514db161a1fb9c3df49c2"
   },
   "source": [
    "Using a better way, **multinominal Naive Bayes (MNB)**."
   ]
  },
  {
   "cell_type": "code",
   "execution_count": 14,
   "metadata": {
    "_cell_guid": "d6c94972-ecf8-4bf0-b92e-465f89756075",
    "_uuid": "0a489dec460ac53d568852c803e300b2a405577f"
   },
   "outputs": [
    {
     "data": {
      "text/plain": [
       "array([[0, 1, 2, 2],\n",
       "       [0, 1, 0, 2]], dtype=int32)"
      ]
     },
     "execution_count": 14,
     "metadata": {},
     "output_type": "execute_result"
    }
   ],
   "source": [
    "np.digitize([[0.1,0.22,0.33,0.8],[0.1,0.22,0.05,0.8]],bins = [.15,.25])"
   ]
  },
  {
   "cell_type": "code",
   "execution_count": 15,
   "metadata": {
    "_cell_guid": "3b2bbc9d-edfb-49cf-b3eb-573d330747fd",
    "_uuid": "4d6c7935eb10ffd7b6e512ed0794805beb17a2e5"
   },
   "outputs": [],
   "source": [
    "bins = [.2,.4,.6,.8] # so every feature will end up 0,1,2,3,4\n",
    "Xqtrain = np.digitize(Xtrain.toarray(),bins = bins)\n",
    "Xqtest = np.digitize(Xtest.toarray(),bins = bins)"
   ]
  },
  {
   "cell_type": "code",
   "execution_count": 16,
   "metadata": {
    "_cell_guid": "a587a28b-ae6f-4d8e-a132-29444bd649b9",
    "_uuid": "45e982d92f89e439a4f038e487f88a7fffcd48ad",
    "scrolled": true
   },
   "outputs": [
    {
     "name": "stdout",
     "output_type": "stream",
     "text": [
      "The best scores happens on: [[ 0.27052632]] , where F1 = [ 0.93487703]\n"
     ]
    }
   ],
   "source": [
    "from sklearn.naive_bayes import MultinomialNB\n",
    "val_scores = []\n",
    "listalpha = np.linspace(0.01,1,num=20)\n",
    "for i in listalpha:\n",
    "    MNB = MultinomialNB(alpha=i)# alpha is Laplace smoothing parameter\n",
    "    scores = cross_val_score(MNB, Xtrain, ytrain,scoring='f1')\n",
    "    val_scores.append([np.mean(scores),i])\n",
    "val_scores = np.array(val_scores)\n",
    "print('The best scores happens on:',val_scores[val_scores[:,0]==max(val_scores[:,0]),1:],\n",
    "      ', where F1 =',val_scores[val_scores[:,0]==max(val_scores[:,0]),0])"
   ]
  },
  {
   "cell_type": "code",
   "execution_count": 17,
   "metadata": {
    "_cell_guid": "ead705e0-d17a-456f-b66d-1e0347641bf7",
    "_uuid": "a896567d99faf2622d29c84a8db85eaa8aea99c7"
   },
   "outputs": [
    {
     "name": "stdout",
     "output_type": "stream",
     "text": [
      "MNB: Accuracy=0.987, F1=0.949\n"
     ]
    }
   ],
   "source": [
    "name = 'MNB'\n",
    "MNB = MultinomialNB(alpha=0.27052632)\n",
    "MNB.fit(Xtrain,ytrain)\n",
    "pred = MNB.predict(Xtest.toarray())\n",
    "F1score[name]= f1_score(ytest,pred)\n",
    "Acc[name] = accuracy_score(ytest,pred)\n",
    "confusion_mat[name] = confusion_matrix(ytest,pred)\n",
    "predictions[name]=pred\n",
    "print(name+': Accuracy=%1.3f, F1=%1.3f'%(Acc[name],F1score[name]))"
   ]
  },
  {
   "cell_type": "markdown",
   "metadata": {
    "_cell_guid": "b73daabb-55ff-45b4-a6d5-0c555ac82c82",
    "_uuid": "9f50e006dadd9343068b369e85dd9cfddbb6b55e"
   },
   "source": [
    "This result is much better than using Gaussian NB."
   ]
  },
  {
   "cell_type": "markdown",
   "metadata": {
    "_cell_guid": "6d52455b-364e-470b-a705-0858160a9526",
    "_uuid": "3a859bfabec0cb4024d86bd7eb3db3dcf0b2b601"
   },
   "source": [
    "Decision Tree"
   ]
  },
  {
   "cell_type": "code",
   "execution_count": 18,
   "metadata": {
    "_cell_guid": "de68a7a2-b499-4365-aa69-41c2c1baa2df",
    "_uuid": "5b95e5a744d812ed3ecd25ef86dd3a60b2979a51",
    "scrolled": true
   },
   "outputs": [
    {
     "name": "stdout",
     "output_type": "stream",
     "text": [
      "The best scores happens on: [[ 4.]] , where F1 = [ 0.83111103]\n"
     ]
    }
   ],
   "source": [
    "val_scores = []\n",
    "for i in range(2,21):\n",
    "    DT = DecisionTreeClassifier(min_samples_split=i, random_state=1,class_weight='balanced')\n",
    "    scores = cross_val_score(DT, Xtrain, ytrain,scoring='f1')\n",
    "    val_scores.append([np.mean(scores),i])\n",
    "val_scores = np.array(val_scores)\n",
    "print('The best scores happens on:',val_scores[val_scores[:,0]==max(val_scores[:,0]),1:],\n",
    "      ', where F1 =',val_scores[val_scores[:,0]==max(val_scores[:,0]),0])"
   ]
  },
  {
   "cell_type": "code",
   "execution_count": 19,
   "metadata": {
    "_cell_guid": "e70390ab-c451-46d6-a207-dae958af4a0e",
    "_uuid": "5a209f85bab5f751e84f3ae41165bf954fe13ac1",
    "scrolled": true
   },
   "outputs": [
    {
     "name": "stdout",
     "output_type": "stream",
     "text": [
      "DT: Accuracy=0.968, F1=0.878\n"
     ]
    }
   ],
   "source": [
    "name = 'DT'\n",
    "DT = DecisionTreeClassifier(min_samples_split=4, random_state=1,class_weight='balanced')\n",
    "DT.fit(Xtrain,ytrain)\n",
    "pred = DT.predict(Xtest.toarray())\n",
    "F1score[name]= f1_score(ytest,pred)\n",
    "Acc[name] = accuracy_score(ytest,pred)\n",
    "confusion_mat[name] = confusion_matrix(ytest,pred)\n",
    "predictions[name]=pred\n",
    "print(name+': Accuracy=%1.3f, F1=%1.3f'%(Acc[name],F1score[name]))"
   ]
  },
  {
   "cell_type": "markdown",
   "metadata": {
    "_cell_guid": "8a3b364b-656d-44cf-95da-8d1669446d47",
    "_uuid": "35500482137eb7e455d839331f0b4227d8a4d354"
   },
   "source": [
    "Logistic Regression"
   ]
  },
  {
   "cell_type": "code",
   "execution_count": 20,
   "metadata": {
    "_cell_guid": "a0a71e95-c582-46b9-82d8-d700b76eec04",
    "_uuid": "060da49982314498a54b02739366c2469b383036",
    "scrolled": true
   },
   "outputs": [
    {
     "name": "stdout",
     "output_type": "stream",
     "text": [
      "The best scores happens on: [['l2' '0.863157894737']] , where F1 = ['0.912843500453']\n"
     ]
    }
   ],
   "source": [
    "list_C = np.linspace(0.1,3,num=20)\n",
    "val_scores = []\n",
    "for p in ('l1','l2'):\n",
    "    for c in list_C:\n",
    "        LR = LogisticRegression(penalty=p,C=c,class_weight='balanced')\n",
    "        scores = cross_val_score(LR, Xtrain, ytrain,scoring='f1')\n",
    "        val_scores.append([np.mean(scores),p,c])\n",
    "val_scores = np.array(val_scores)\n",
    "print('The best scores happens on:',val_scores[val_scores[:,0]==max(val_scores[:,0]),1:],\n",
    "      ', where F1 =',val_scores[val_scores[:,0]==max(val_scores[:,0]),0])            "
   ]
  },
  {
   "cell_type": "code",
   "execution_count": 21,
   "metadata": {
    "_cell_guid": "67d21f22-1e30-4e96-8e0a-7391b759c1df",
    "_uuid": "1d4a513a9b5dbed8fbf2204b2a7ced53b1a01223",
    "scrolled": true
   },
   "outputs": [
    {
     "name": "stdout",
     "output_type": "stream",
     "text": [
      "LR: Accuracy=0.987, F1=0.950\n"
     ]
    }
   ],
   "source": [
    "name = 'LR'\n",
    "LR = LogisticRegression(penalty='l2',C=0.863157894737,class_weight='balanced')\n",
    "LR.fit(Xtrain,ytrain)\n",
    "pred = LR.predict(Xtest)\n",
    "F1score[name]= f1_score(ytest,pred)\n",
    "Acc[name] = accuracy_score(ytest,pred)\n",
    "confusion_mat[name] = confusion_matrix(ytest,pred)\n",
    "predictions[name]=pred\n",
    "print(name+': Accuracy=%1.3f, F1=%1.3f'%(Acc[name],F1score[name]))"
   ]
  },
  {
   "cell_type": "markdown",
   "metadata": {
    "_cell_guid": "25098acd-6e32-4245-bb54-a97366d91b7e",
    "_uuid": "9cf7f654a9faf972554d53e1dfa743125e8b0724"
   },
   "source": [
    "Random Forest"
   ]
  },
  {
   "cell_type": "code",
   "execution_count": 22,
   "metadata": {
    "_cell_guid": "5923592a-efd9-4e25-8a22-cc473230e362",
    "_uuid": "cc4c5d1f1c172e6c89cd411aecf6cb6e6def84c0",
    "scrolled": true
   },
   "outputs": [
    {
     "name": "stdout",
     "output_type": "stream",
     "text": [
      "RF: Accuracy=0.988, F1=0.952\n"
     ]
    }
   ],
   "source": [
    "name = 'RF'\n",
    "RF = RandomForestClassifier(n_estimators =80,class_weight ='balanced')\n",
    "RF.fit(Xtrain,ytrain)\n",
    "pred = RF.predict(Xtest)\n",
    "F1score[name]= f1_score(ytest,pred)\n",
    "Acc[name] = accuracy_score(ytest,pred)\n",
    "confusion_mat[name] = confusion_matrix(ytest,pred)\n",
    "predictions[name]=pred\n",
    "print(name+': Accuracy=%1.3f, F1=%1.3f'%(Acc[name],F1score[name]))"
   ]
  },
  {
   "cell_type": "markdown",
   "metadata": {
    "_cell_guid": "ed1001f1-ba86-4dd7-bacb-dabb47358521",
    "_uuid": "dcef6b1f87fc26a54890b3366b32bf186285a932"
   },
   "source": [
    "Adaboost"
   ]
  },
  {
   "cell_type": "code",
   "execution_count": 23,
   "metadata": {
    "_cell_guid": "e26b8b9c-5016-4307-ac57-79517bcb7aaa",
    "_uuid": "96bff0958999179f43c5ac258178e8ada9f720ec",
    "scrolled": true
   },
   "outputs": [
    {
     "name": "stdout",
     "output_type": "stream",
     "text": [
      "AdaBoost: Accuracy=0.984, F1=0.932\n"
     ]
    }
   ],
   "source": [
    "name = 'AdaBoost'\n",
    "Ada = AdaBoostClassifier(n_estimators=80, random_state=1)\n",
    "Ada.fit(Xtrain,ytrain)\n",
    "pred = Ada.predict(Xtest)\n",
    "F1score[name]= f1_score(ytest,pred)\n",
    "Acc[name] = accuracy_score(ytest,pred)\n",
    "confusion_mat[name] = confusion_matrix(ytest,pred)\n",
    "predictions[name]=pred\n",
    "print(name+': Accuracy=%1.3f, F1=%1.3f'%(Acc[name],F1score[name]))"
   ]
  },
  {
   "cell_type": "markdown",
   "metadata": {
    "_cell_guid": "971bb417-e509-4a32-b3a4-d6ba6c3ae38b",
    "_uuid": "9784534e490e5379170bdc2b617160c0aebf4fbe"
   },
   "source": [
    "Comparison Between Models"
   ]
  },
  {
   "cell_type": "code",
   "execution_count": 24,
   "metadata": {
    "_cell_guid": "b686ff89-fcee-45e7-9bfd-41b3c58953c4",
    "_uuid": "7081e983a1c3eed97b6bfa42274b50a0fc4b0b25"
   },
   "outputs": [
    {
     "data": {
      "text/plain": [
       "\"import pickle\\nwith open('spam_result.pickle', 'rb') as handle:\\n    b = pickle.load(handle)\\nAcc,F1score,confusion_mat,predictions = b[0],b[1],b[2],b[3]\\n\""
      ]
     },
     "execution_count": 24,
     "metadata": {},
     "output_type": "execute_result"
    }
   ],
   "source": [
    "'''import pickle\n",
    "with open('spam_result.pickle', 'rb') as handle:\n",
    "    b = pickle.load(handle)\n",
    "Acc,F1score,confusion_mat,predictions = b[0],b[1],b[2],b[3]\n",
    "'''"
   ]
  },
  {
   "cell_type": "markdown",
   "metadata": {
    "_cell_guid": "338be4c5-54b5-4825-b7cd-01a25fd10f1d",
    "_uuid": "6ac20b7496e4cd58096270bfff30a08df0791245"
   },
   "source": [
    "Accuracy and F1 Score"
   ]
  },
  {
   "cell_type": "code",
   "execution_count": 25,
   "metadata": {
    "_cell_guid": "fe3c8ab1-f544-4c3b-88fb-5755fe15f47b",
    "_uuid": "5a9b457796fd0e9cef88bc0c912eb2a34fa4e10d"
   },
   "outputs": [
    {
     "data": {
      "image/png": "[encoded data removed]",
      "text/plain": [
       "<matplotlib.figure.Figure at 0xf5de970>"
      ]
     },
     "metadata": {},
     "output_type": "display_data"
    }
   ],
   "source": [
    "Results = pd.DataFrame([v for v in Acc.values()], columns = ['Acc'],\n",
    "                    index = [k for k in Acc.keys()])\n",
    "Results = Results.assign(F1_score=[v for v in F1score.values()])\n",
    "\n",
    "fig = plt.figure(figsize=(16,5))\n",
    "ylim = [[0.80,1],[0.8,1]]\n",
    "x_offset = -0.35; y_offset = 0.001\n",
    "for i,(a,yl) in enumerate(zip(list(Results.keys()),ylim)):\n",
    "    plt.subplot(1,2,i+1)\n",
    "    Results[a].plot(kind='bar')\n",
    "    plt.ylabel(a); plt.ylim(yl)\n",
    "    for p in plt.gca().patches:\n",
    "        b = p.get_bbox()\n",
    "        val = \"{:1.4f}\".format(b.y1 + b.y0)        \n",
    "        plt.gca().annotate(val, ((b.x0 + b.x1)/2 + x_offset, b.y1 + y_offset))\n"
   ]
  },
  {
   "cell_type": "markdown",
   "metadata": {
    "_cell_guid": "70e045c5-d7e9-41da-9ae7-607565bce86c",
    "_uuid": "7805a349bfd54eeacc13b8e6a4779f58e9f693fb"
   },
   "source": [
    "Confusion Matrices"
   ]
  },
  {
   "cell_type": "code",
   "execution_count": 26,
   "metadata": {
    "_cell_guid": "708316d6-2ffd-4475-b9c8-413de0e846ac",
    "_uuid": "b2a7943eeabad3acf9bba631df30177616fc0735"
   },
   "outputs": [],
   "source": [
    "import itertools\n",
    "def plot_confusion_matrix(cm, classes,\n",
    "                          normalize=False,\n",
    "                          title='Confusion matrix',\n",
    "                          cmap=plt.cm.Blues):\n",
    "    \"\"\"\n",
    "    This function prints and plots the confusion matrix.\n",
    "    Normalization can be applied by setting `normalize=True`.\n",
    "    \"\"\"\n",
    "    plt.imshow(cm, interpolation='nearest', cmap=cmap)\n",
    "    plt.title(title)\n",
    "    #plt.colorbar()\n",
    "    tick_marks = np.arange(len(classes))\n",
    "    plt.xticks(tick_marks, classes, rotation=45)\n",
    "    plt.yticks(tick_marks, classes)\n",
    "\n",
    "    if normalize:\n",
    "        cm = cm.astype('float') / cm.sum(axis=1)[:, np.newaxis]\n",
    "    thresh = cm.max() / 2.\n",
    "    for i, j in itertools.product(range(cm.shape[0]), range(cm.shape[1])):\n",
    "        plt.text(j, i, round(cm[i, j],4),\n",
    "                 horizontalalignment=\"center\",\n",
    "                 color=\"white\" if cm[i, j] > thresh else \"black\")\n",
    "\n",
    "    plt.tight_layout();plt.ylabel('True label');plt.xlabel('Predicted label')"
   ]
  },
  {
   "cell_type": "code",
   "execution_count": 27,
   "metadata": {
    "_cell_guid": "8fc3b139-24d1-4517-be56-167922408463",
    "_uuid": "0217dbcf3d2e34ab7627a3b5f05c574e94302230"
   },
   "outputs": [
    {
     "data": {
      "image/png": "[encoded data removed]",
      "text/plain": [
       "<matplotlib.figure.Figure at 0xf7217d0>"
      ]
     },
     "metadata": {},
     "output_type": "display_data"
    }
   ],
   "source": [
    "fig = plt.figure(figsize=(18,16))\n",
    "i=1\n",
    "for key,val in confusion_mat.items():\n",
    "    plt.subplot(3,3,i);i+=1\n",
    "    plot_confusion_matrix(val, classes=['ham','spams'], normalize=False,\n",
    "                      title=key)"
   ]
  },
  {
   "cell_type": "markdown",
   "metadata": {
    "_cell_guid": "7a7eb1b5-adf8-4983-b442-38b2faa75c71",
    "_uuid": "fb86d286f6cf234a4f0eee084824bf4775893479"
   },
   "source": [
    "Misclassified samples from SVM"
   ]
  },
  {
   "cell_type": "code",
   "execution_count": 28,
   "metadata": {
    "_cell_guid": "7cd1c659-4343-43cf-93a2-706f7b9bcf9b",
    "_uuid": "a618e4639c53a15d0558210c0402d565cd3744b4"
   },
   "outputs": [
    {
     "data": {
      "text/html": [
       "<div>\n",
       "<style scoped>\n",
       "    .dataframe tbody tr th:only-of-type {\n",
       "        vertical-align: middle;\n",
       "    }\n",
       "\n",
       "    .dataframe tbody tr th {\n",
       "        vertical-align: top;\n",
       "    }\n",
       "\n",
       "    .dataframe thead th {\n",
       "        text-align: right;\n",
       "    }\n",
       "</style>\n",
       "<table border=\"1\" class=\"dataframe\">\n",
       "  <thead>\n",
       "    <tr style=\"text-align: right;\">\n",
       "      <th></th>\n",
       "      <th>v1</th>\n",
       "      <th>v2</th>\n",
       "    </tr>\n",
       "  </thead>\n",
       "  <tbody>\n",
       "    <tr>\n",
       "      <th>3493</th>\n",
       "      <td>1</td>\n",
       "      <td>You are being contacted by our dating service ...</td>\n",
       "    </tr>\n",
       "    <tr>\n",
       "      <th>5566</th>\n",
       "      <td>1</td>\n",
       "      <td>REMINDER FROM O2: To get 2.50 pounds free call...</td>\n",
       "    </tr>\n",
       "    <tr>\n",
       "      <th>689</th>\n",
       "      <td>1</td>\n",
       "      <td>&lt;Forwarded from 448712404000&gt;Please CALL 08712...</td>\n",
       "    </tr>\n",
       "    <tr>\n",
       "      <th>1662</th>\n",
       "      <td>1</td>\n",
       "      <td>Hi if ur lookin 4 saucy daytime fun wiv busty ...</td>\n",
       "    </tr>\n",
       "    <tr>\n",
       "      <th>1448</th>\n",
       "      <td>1</td>\n",
       "      <td>As a registered optin subscriber ur draw 4 å£1...</td>\n",
       "    </tr>\n",
       "    <tr>\n",
       "      <th>1499</th>\n",
       "      <td>1</td>\n",
       "      <td>SMS. ac JSco: Energy is high, but u may not kn...</td>\n",
       "    </tr>\n",
       "    <tr>\n",
       "      <th>5455</th>\n",
       "      <td>0</td>\n",
       "      <td>Wishing you a beautiful day. Each moment revea...</td>\n",
       "    </tr>\n",
       "    <tr>\n",
       "      <th>3417</th>\n",
       "      <td>1</td>\n",
       "      <td>LIFE has never been this much fun and great un...</td>\n",
       "    </tr>\n",
       "    <tr>\n",
       "      <th>2773</th>\n",
       "      <td>1</td>\n",
       "      <td>How come it takes so little time for a child w...</td>\n",
       "    </tr>\n",
       "    <tr>\n",
       "      <th>5</th>\n",
       "      <td>1</td>\n",
       "      <td>FreeMsg Hey there darling it's been 3 week's n...</td>\n",
       "    </tr>\n",
       "    <tr>\n",
       "      <th>1289</th>\n",
       "      <td>0</td>\n",
       "      <td>Hey...Great deal...Farm tour 9am to 5pm $95/pa...</td>\n",
       "    </tr>\n",
       "    <tr>\n",
       "      <th>778</th>\n",
       "      <td>0</td>\n",
       "      <td>Happy New year my dear brother. I really do mi...</td>\n",
       "    </tr>\n",
       "    <tr>\n",
       "      <th>1216</th>\n",
       "      <td>1</td>\n",
       "      <td>You have 1 new voicemail. Please call 08719181...</td>\n",
       "    </tr>\n",
       "    <tr>\n",
       "      <th>4071</th>\n",
       "      <td>1</td>\n",
       "      <td>Loans for any purpose even if you have Bad Cre...</td>\n",
       "    </tr>\n",
       "    <tr>\n",
       "      <th>1457</th>\n",
       "      <td>1</td>\n",
       "      <td>CLAIRE here am havin borin time &amp; am now alone...</td>\n",
       "    </tr>\n",
       "    <tr>\n",
       "      <th>2429</th>\n",
       "      <td>1</td>\n",
       "      <td>Guess who am I?This is the first time I create...</td>\n",
       "    </tr>\n",
       "    <tr>\n",
       "      <th>1596</th>\n",
       "      <td>1</td>\n",
       "      <td>As a Registered Subscriber yr draw 4 a å£100 g...</td>\n",
       "    </tr>\n",
       "    <tr>\n",
       "      <th>19</th>\n",
       "      <td>1</td>\n",
       "      <td>England v Macedonia - dont miss the goals/team...</td>\n",
       "    </tr>\n",
       "  </tbody>\n",
       "</table>\n",
       "</div>"
      ],
      "text/plain": [
       "      v1                                                 v2\n",
       "3493   1  You are being contacted by our dating service ...\n",
       "5566   1  REMINDER FROM O2: To get 2.50 pounds free call...\n",
       "689    1  <Forwarded from 448712404000>Please CALL 08712...\n",
       "1662   1  Hi if ur lookin 4 saucy daytime fun wiv busty ...\n",
       "1448   1  As a registered optin subscriber ur draw 4 å£1...\n",
       "1499   1  SMS. ac JSco: Energy is high, but u may not kn...\n",
       "5455   0  Wishing you a beautiful day. Each moment revea...\n",
       "3417   1  LIFE has never been this much fun and great un...\n",
       "2773   1  How come it takes so little time for a child w...\n",
       "5      1  FreeMsg Hey there darling it's been 3 week's n...\n",
       "1289   0  Hey...Great deal...Farm tour 9am to 5pm $95/pa...\n",
       "778    0  Happy New year my dear brother. I really do mi...\n",
       "1216   1  You have 1 new voicemail. Please call 08719181...\n",
       "4071   1  Loans for any purpose even if you have Bad Cre...\n",
       "1457   1  CLAIRE here am havin borin time & am now alone...\n",
       "2429   1  Guess who am I?This is the first time I create...\n",
       "1596   1  As a Registered Subscriber yr draw 4 a å£100 g...\n",
       "19     1  England v Macedonia - dont miss the goals/team..."
      ]
     },
     "execution_count": 28,
     "metadata": {},
     "output_type": "execute_result"
    }
   ],
   "source": [
    "missclassified = np.nonzero(pred!=ytest)[0]\n",
    "ind_miss = ytest.index[missclassified]\n",
    "df.iloc[ind_miss,:]"
   ]
  }
 ],
 "metadata": {
  "kernelspec": {
   "display_name": "Python 3",
   "language": "python",
   "name": "python3"
  },
  "language_info": {
   "codemirror_mode": {
    "name": "ipython",
    "version": 3
   },
   "file_extension": ".py",
   "mimetype": "text/x-python",
   "name": "python",
   "nbconvert_exporter": "python",
   "pygments_lexer": "ipython3",
   "version": "3.6.3"
  }
 },
 "nbformat": 4,
 "nbformat_minor": 2
}
